{
 "cells": [
  {
   "cell_type": "code",
   "execution_count": 452,
   "id": "4ef9bc49",
   "metadata": {},
   "outputs": [],
   "source": [
    "import os\n",
    "import numpy as np\n",
    "import matplotlib.pyplot as plt\n",
    "import cv2\n",
    "import pandas as pd\n",
    "import scipy.stats\n",
    "from PIL import ImageFont, ImageDraw, Image\n",
    "from scipy.stats import gaussian_kde\n",
    "\n",
    "# MaruBuri-Bold font 다운받기 - https://hangeul.naver.com/font/maru"
   ]
  },
  {
   "cell_type": "code",
   "execution_count": 453,
   "id": "c645c535",
   "metadata": {},
   "outputs": [],
   "source": [
    "df = pd.read_csv('df.csv', encoding='utf-8-sig')\n",
    "file_dir = 'file directory'"
   ]
  },
  {
   "cell_type": "markdown",
   "id": "df48c5b4",
   "metadata": {},
   "source": [
    "# Temporary Images"
   ]
  },
  {
   "cell_type": "code",
   "execution_count": 1347,
   "id": "39685320",
   "metadata": {},
   "outputs": [],
   "source": [
    "temp_read = cv2.imread(file_dir+'/'.join(df.iloc[121][['filepath','filename']].tolist()), cv2.IMREAD_GRAYSCALE)\n",
    "print(temp_read.shape)\n",
    "plt.imshow(temp_read, cmap='gray')\n",
    "plt.show()"
   ]
  },
  {
   "cell_type": "markdown",
   "id": "1dc6bb11",
   "metadata": {},
   "source": [
    "# Image Thresholding"
   ]
  },
  {
   "cell_type": "code",
   "execution_count": 1350,
   "id": "3ce82726",
   "metadata": {},
   "outputs": [],
   "source": [
    "temp_threshold_110_200 = cv2.threshold(temp_read, 130, 200, cv2.THRESH_BINARY)[1]\n",
    "print(temp_threshold_110_200.shape)\n",
    "plt.imshow(temp_threshold_110_200, cmap='gray')"
   ]
  },
  {
   "cell_type": "markdown",
   "id": "525b7aa0",
   "metadata": {},
   "source": [
    "# Font Size Automation"
   ]
  },
  {
   "cell_type": "code",
   "execution_count": 1317,
   "id": "4682f393",
   "metadata": {},
   "outputs": [],
   "source": [
    "def get_font_size(what_temp_threshold, font_quantile, white_threshold, mean_median_rate__, min_letter_quantile, max_letter_quantile):\n",
    "    black_list = []\n",
    "    letter_list_x = []\n",
    "    letter_list_y = []\n",
    "    low_list_x = np.mean(what_temp_threshold, axis=0) < np.quantile(np.mean(what_temp_threshold, axis=0), font_quantile) \n",
    "    low_list_y = np.mean(what_temp_threshold, axis=1) < np.quantile(np.mean(what_temp_threshold, axis=0), font_quantile)\n",
    "    \n",
    "    # low_list for x\n",
    "    for i, bw in enumerate(what_temp_threshold[:,low_list_x]):\n",
    "        new_bw = int(np.mean(bw))\n",
    "        if new_bw < white_threshold:\n",
    "            black_list.append(new_bw)\n",
    "        else:\n",
    "            if len(black_list) > 0:\n",
    "                letter_list_x.append(len(black_list))\n",
    "                black_list = []\n",
    "    \n",
    "    if len(letter_list_x) > 0:\n",
    "        letter_list_x = np.array(letter_list_x)\n",
    "        letter_list_x__2 = letter_list_x[np.quantile(letter_list_x,min_letter_quantile) < letter_list_x] \n",
    "        letter_list_x = letter_list_x__2[letter_list_x__2 < np.quantile(letter_list_x,max_letter_quantile)]\n",
    "    \n",
    "    black_list = []\n",
    "    # low_list for y\n",
    "    for i, bw in enumerate(what_temp_threshold[low_list_y,:]):\n",
    "        new_bw = int(np.mean(bw))\n",
    "        if new_bw < white_threshold:\n",
    "            black_list.append(new_bw)\n",
    "        else:\n",
    "            if len(black_list) > 0:\n",
    "                letter_list_y.append(len(black_list))\n",
    "                black_list = []\n",
    "    \n",
    "    if len(letter_list_y) > 0:\n",
    "        letter_list_y = np.array(letter_list_y)\n",
    "        letter_list_y_2 = letter_list_y[np.quantile(letter_list_y,min_letter_quantile) < letter_list_y] \n",
    "        letter_list_y = letter_list_y_2[letter_list_y_2 < np.quantile(test__1,max_letter_quantile)]\n",
    "    \n",
    "    median_rate, mean_rate = mean_median_rate__\n",
    "    \n",
    "    # 비율 계산하기\n",
    "    ratio_for_paper = []\n",
    "    for shape in what_temp_threshold.shape:\n",
    "        ratio_for_paper.append(0.025*shape)\n",
    "        ratio_for_paper.append(0.03*shape)\n",
    "        ratio_for_paper.append(0.035*shape)\n",
    "        ratio_for_paper.append(0.04*shape)\n",
    "        \n",
    "    if len(letter_list_y) == 0:\n",
    "        letter_list_x = np.append(letter_list_x, np.array(ratio_for_paper))\n",
    "        return np.median(letter_list_x)*median_rate/(median_rate+mean_rate) + np.mean(letter_list_x)*mean_rate/(median_rate+mean_rate)\n",
    "    \n",
    "    elif len(letter_list_x) == 0:\n",
    "        letter_list_y = np.append(letter_list_y, np.array(ratio_for_paper))\n",
    "        return np.median(letter_list_y)*median_rate/(median_rate+mean_rate) + np.mean(letter_list_y)*mean_rate/(median_rate+mean_rate)\n",
    "    \n",
    "    else:\n",
    "        whole_letter_list_x = np.append(letter_list_x,letter_list_y)\n",
    "        whole_letter_list_x = np.append(whole_letter_list_x,np.array(ratio_for_paper))\n",
    "        return np.median(whole_letter_list_x)*median_rate/(median_rate+mean_rate) + np.mean(whole_letter_list_x)*mean_rate/(median_rate+mean_rate)\n"
   ]
  },
  {
   "cell_type": "code",
   "execution_count": 1352,
   "id": "5fd08fcb",
   "metadata": {},
   "outputs": [
    {
     "data": {
      "text/plain": [
       "23.331363636363633"
      ]
     },
     "execution_count": 1352,
     "metadata": {},
     "output_type": "execute_result"
    }
   ],
   "source": [
    "# 이미지 불러오기\n",
    "temp_read_1 = cv2.imread(file_dir+'/'.join(df.iloc[121][['filepath','filename']].tolist()), cv2.IMREAD_GRAYSCALE)\n",
    "temp_threshold_1 = cv2.threshold(temp_read_1, 130, 200, cv2.THRESH_BINARY)[1]\n",
    "\n",
    "# 입력할 글자\n",
    "what_text_1 = \"가나다라마바사\"\n",
    "more_check_1 = 1\n",
    "\n",
    "# Font size Atuomation\n",
    "get_font_size(temp_threshold_1, font_quantile= 0.75, white_threshold=195, mean_median_rate__=[0,1], min_letter_quantile=0.05, max_letter_quantile=0.6)"
   ]
  },
  {
   "cell_type": "markdown",
   "id": "27275ebd",
   "metadata": {},
   "source": [
    "# Automatic Bounding Box Detection using KDE"
   ]
  },
  {
   "cell_type": "code",
   "execution_count": 1318,
   "id": "d99a2323",
   "metadata": {
    "scrolled": true
   },
   "outputs": [],
   "source": [
    "def finding_bounding_box(temp_read, what_text, more_check, what_threshold, max_threshold, font_quantile_, white_threshold_, mean_median_rate_, min_letter_quantile_, max_letter_quantile_):\n",
    "    # temp_read는 cv2.imread(file_dir+'/'.join(df.iloc[index][['filepath','filename']].tolist()), cv2.IMREAD_GRAYSCALE)\n",
    "    \n",
    "    # 이미지 threshold에 따른 변환\n",
    "    temp_threshold_110_200 = cv2.threshold(temp_read, what_threshold, max_threshold, cv2.THRESH_BINARY)[1]\n",
    "    font_size = get_font_size(temp_threshold_110_200, font_quantile_, white_threshold_, mean_median_rate_, min_letter_quantile_, max_letter_quantile_)\n",
    "    print(font_size)\n",
    "    \n",
    "    # 가로세로 합한 수치\n",
    "    length_y = temp_read.shape[0]\n",
    "    length_x = temp_read.shape[1]\n",
    "    sum_of_width_length = length_y + length_x\n",
    "    \n",
    "    # 글자 크기 및 두께 가중치\n",
    "    w_tickness = 2\n",
    "    \n",
    "    # 이미지의 작은 bounding box 설정\n",
    "    bounding_box_x_length = 6 + len(what_text) * round(font_size)\n",
    "    bounding_box_y_length = 5 + round(font_size + 4)\n",
    "    \n",
    "    # 이미지 크기에 따른 구간 나누고 빈 공간 체크하기\n",
    "    y_list = list(range(0,length_y, bounding_box_y_length))\n",
    "    x_list = list(range(0,length_x, bounding_box_x_length))\n",
    "    \n",
    "    # 정규분포를 이용한 패널티\n",
    "    mean_para_y = length_y/4\n",
    "    scale_para_y = mean_para_y*4\n",
    "    mean_para_x = length_x/4\n",
    "    scale_para_x = mean_para_x*4\n",
    "    \n",
    "    # 최종값 찾기\n",
    "    max_final_report = 0\n",
    "    max_y, max_x = [], []\n",
    "    \n",
    "    for yy in y_list:\n",
    "        for xx in x_list:\n",
    "            # 모서리 부분 제외\n",
    "            if yy== 0 or xx==0 or xx==x_list[-1] or yy==y_list[-1]:\n",
    "                continue\n",
    "            \n",
    "            # bounding box 생성\n",
    "            bounding_box_x_start = (xx - 3) - more_check\n",
    "            bounding_box_x_finish = (xx - 3 + bounding_box_x_length) + more_check\n",
    "            bounding_box_y_start = (yy + 5 - bounding_box_y_length) - more_check\n",
    "            bounding_box_y_finish = (yy + 5) + more_check\n",
    "            \n",
    "            # bounding box 내 흑백 여부: 1에 가까울수록 백 / 0에 가까울수록 흑\n",
    "            temp_bounding_box = temp_threshold_110_200[bounding_box_y_start:bounding_box_y_finish,bounding_box_x_start:bounding_box_x_finish]\n",
    "            \n",
    "            if (200*temp_bounding_box.shape[0]*temp_bounding_box.shape[1]) == 0:\n",
    "                continue\n",
    "            \n",
    "            black_or_white_in_bounding_box = np.mean(np.square(temp_bounding_box))\n",
    "            \n",
    "            # 최종 수치 도출\n",
    "            final_report = black_or_white_in_bounding_box\n",
    "            if max_final_report < final_report:\n",
    "                max_final_report = final_report\n",
    "                max_y, max_x = [], []\n",
    "                max_y.append(yy)\n",
    "                max_x.append(xx)\n",
    "                \n",
    "            elif max_final_report == final_report:\n",
    "                max_final_report = final_report\n",
    "                max_y.append(yy)\n",
    "                max_x.append(xx)\n",
    "    \n",
    "    if len(set(max_y)) == 1 and len(set(max_x)) == 1:\n",
    "        final_max_y = max_y[0]\n",
    "        final_max_x = max_x[0]\n",
    "    \n",
    "    elif len(set(max_y)) == 1:\n",
    "        final_max_y = max_y[0]\n",
    "        kde = gaussian_kde(np.array(max_x))\n",
    "        kde_result = kde.evaluate(np.array(max_x))\n",
    "        np_where_is_max = np.where(max(kde_result)==kde_result)[0]\n",
    "        \n",
    "        if len(np_where_is_max) > 1:\n",
    "            np_where_is_max = np_where_is_max[0]\n",
    "        final_max_x = max_x[int(np_where_is_max)]\n",
    "        \n",
    "    elif len(set(max_x)) == 1:\n",
    "        final_max_x = max_x[0]\n",
    "        kde = gaussian_kde(np.array(max_y))\n",
    "        kde_result = kde.evaluate(np.array(max_y))\n",
    "        np_where_is_max = np.where(max(kde_result)==kde_result)[0]\n",
    "        \n",
    "        if len(np_where_is_max) > 1:\n",
    "            np_where_is_max = np_where_is_max[0]\n",
    "        final_max_y = max_y[int(np_where_is_max)]\n",
    "    \n",
    "    elif len(max_x) == len(max_y) == 2:\n",
    "        final_max_y,final_max_x = max_y[0], max_x[0]\n",
    "    else:\n",
    "        kde = gaussian_kde(np.array([max_y,max_x]))\n",
    "        kde_result = kde.evaluate(np.array([max_y,max_x]))    \n",
    "        np_where_is_max = np.where(max(kde_result)==kde_result)[0]\n",
    "    \n",
    "        if len(np_where_is_max) > 1:\n",
    "            np_where_is_max = np_where_is_max[0]\n",
    "    \n",
    "        final_max_y = max_y[int(np_where_is_max)]\n",
    "        final_max_x = max_x[int(np_where_is_max)]\n",
    "    \n",
    "    return final_max_y, final_max_x, max_final_report\n"
   ]
  },
  {
   "cell_type": "code",
   "execution_count": 1353,
   "id": "2b225d95",
   "metadata": {},
   "outputs": [
    {
     "name": "stdout",
     "output_type": "stream",
     "text": [
      "60.66125\n"
     ]
    },
    {
     "data": {
      "text/plain": [
       "(210, 866, 63.38697318007663)"
      ]
     },
     "execution_count": 1353,
     "metadata": {},
     "output_type": "execute_result"
    }
   ],
   "source": [
    "# 이미지 불러오기\n",
    "temp_read_1 = cv2.imread(file_dir+'/'.join(df.iloc[121][['filepath','filename']].tolist()), cv2.IMREAD_GRAYSCALE)\n",
    "\n",
    "# 입력할 글자\n",
    "what_text_1 = \"가나다라마바사\"\n",
    "more_check_1 = 1\n",
    "\n",
    "finding_bounding_box(temp_read_1, what_text_1, more_check_1, 140, 200\n",
    "                     , font_quantile_ = 0.75, white_threshold_ = 195, mean_median_rate_=[0,1], min_letter_quantile_=0.05, max_letter_quantile_=0.6)"
   ]
  },
  {
   "cell_type": "markdown",
   "id": "b1e7e465",
   "metadata": {},
   "source": [
    "# Automatic Writing Korean text"
   ]
  },
  {
   "cell_type": "code",
   "execution_count": 1320,
   "id": "a3a8d19c",
   "metadata": {},
   "outputs": [],
   "source": [
    "def writing_name_in_bounding_box(index_, dataframe_, directory_, what_threshold, max_threshold, more_checking_, font_quantile__, white_threshold__, mean_median_rate, min_letter_quantile__, max_letter_quantile__):\n",
    "    temp_read_idx = cv2.imread(directory_+'/'.join(dataframe_.iloc[index_][['filepath','filename']].tolist()), cv2.IMREAD_GRAYSCALE)\n",
    "    temp_threshold_110_200_ = cv2.threshold(temp_read_idx, what_threshold, max_threshold, cv2.THRESH_BINARY)[1]\n",
    "    \n",
    "    # 입력할 글자\n",
    "    what_text_1 = 'what name?: '+ dataframe_.loc[index_, 'name']\n",
    "    \n",
    "    # 위치, 폰트, 크기, RGB, 굵기\n",
    "    font_size_ = get_font_size(temp_threshold_110_200_, font_quantile__, white_threshold__, mean_median_rate, min_letter_quantile__, max_letter_quantile__)\n",
    "    start_y, start_x, how_final_report = finding_bounding_box(temp_read_idx, what_text_1, more_check_1, what_threshold, max_threshold, font_quantile__, white_threshold__, mean_median_rate, min_letter_quantile__, max_letter_quantile__)\n",
    "    sum_of_width_length = temp_read.shape[0] + temp_read.shape[1]\n",
    "    w_tickness = 2\n",
    "    \n",
    "    # bounding box 설정 - cv2 puttext 기준\n",
    "    bounding_box_x_start = start_x - 3 - more_checking_\n",
    "    bounding_box_x_finish = start_x + 3 + len(what_text) * round(font_size_) + more_checking_\n",
    "    bounding_box_y_start = start_y - round(font_size_ + 4) - more_checking_\n",
    "    bounding_box_y_finish = start_y + 5 + more_checking_\n",
    "    \n",
    "    # 폰트 지정 - C:/ Windows 내 font 폴더 아님!\n",
    "    # https://chongmin-k.tistory.com/entry/%EC%9B%8C%EB%93%9C%ED%81%B4%EB%9D%BC%EC%9A%B0%EB%93%9C-%EC%98%A4%EB%A5%98-cannot-open-resource\n",
    "    # http://www.gisdeveloper.co.kr/?p=8338\n",
    "    font = ImageFont.truetype('(anaconda file location)/fonts/MaruBuri-Bold.ttf', round(font_size_))\n",
    "    \n",
    "    # 한글 작성을 위한 과정 - cv2 puttext와 시작점이 다릅니다.\n",
    "    img_pil = Image.fromarray(temp_read_idx)\n",
    "    draw = ImageDraw.Draw(img_pil)\n",
    "    draw.text((start_x,bounding_box_y_start),  what_text_1, font=font)\n",
    "    img = np.array(img_pil)\n",
    "    \n",
    "    # putText하기\n",
    "    img_with_letter = cv2.putText(img, \"\", (start_x,start_y), cv2.FONT_HERSHEY_SIMPLEX, round(font_size_), (0,0,0), w_tickness)\n",
    "    #plt.imshow(img_with_letter, cmap='gray')\n",
    "    \n",
    "    return img_with_letter"
   ]
  },
  {
   "cell_type": "code",
   "execution_count": null,
   "id": "2855b9c9",
   "metadata": {},
   "outputs": [],
   "source": [
    "plt.imshow(writing_name_in_bounding_box(452, df, file_dir, what_threshold = 125, max_threshold = 200\n",
    "                                        , more_checking_ = 1, font_quantile__=0.75, white_threshold__ = 190\n",
    "                                        , mean_median_rate=[1,4], min_letter_quantile__ = 0.5, max_letter_quantile__ = 0.6), cmap='gray')"
   ]
  },
  {
   "cell_type": "markdown",
   "id": "55fcf12f",
   "metadata": {},
   "source": [
    "# Getting Started"
   ]
  },
  {
   "cell_type": "code",
   "execution_count": null,
   "id": "d5f5b26e",
   "metadata": {},
   "outputs": [],
   "source": [
    "# 본격적으로 시작하기\n",
    "for idx in range(len(df)):   \n",
    "    print(idx)\n",
    "    result_img = writing_name_in_bounding_box(index_ = idx, dataframe_ = df, directory_ = file_dir, what_threshold = 125, max_threshold = 200\n",
    "                                              , more_checking_ = 0, font_quantile__=0.75, white_threshold__ = 190\n",
    "                                             , mean_median_rate = [1,4], min_letter_quantile__= 0.5, max_letter_quantile__ = 0.6)    \n",
    "    cv2.imwrite('(image_location)/'+'_'.join(df.iloc[idx][['filepath','filename']].tolist()),result_img)"
   ]
  }
 ],
 "metadata": {
  "kernelspec": {
   "display_name": "Python 3 (ipykernel)",
   "language": "python",
   "name": "python3"
  },
  "language_info": {
   "codemirror_mode": {
    "name": "ipython",
    "version": 3
   },
   "file_extension": ".py",
   "mimetype": "text/x-python",
   "name": "python",
   "nbconvert_exporter": "python",
   "pygments_lexer": "ipython3",
   "version": "3.11.5"
  }
 },
 "nbformat": 4,
 "nbformat_minor": 5
}
